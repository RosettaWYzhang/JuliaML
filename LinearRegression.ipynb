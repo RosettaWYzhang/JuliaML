{
 "cells": [
  {
   "cell_type": "markdown",
   "metadata": {},
   "source": [
    "# Linear regression "
   ]
  },
  {
   "cell_type": "code",
   "execution_count": 28,
   "metadata": {
    "scrolled": true
   },
   "outputs": [
    {
     "name": "stdout",
     "output_type": "stream",
     "text": [
      "Array{Float64,1}  0.000006 seconds (9 allocations: 512 bytes)\n"
     ]
    }
   ],
   "source": [
    "# create synthetic data and use linreg to compute slope and intercept\n",
    "X = [1.422,4.123,8.734,11.223,14.659,18.266,20.456,25.123];\n",
    "Y = [6.753,17.265,22.236,35.456,36.913,39.436,46.925,52.265];\n",
    "print(typeof(X))\n",
    "@time(linreg(X,Y))\n",
    "a,b = linreg(X,Y);"
   ]
  },
  {
   "cell_type": "code",
   "execution_count": null,
   "metadata": {},
   "outputs": [],
   "source": [
    "# plot graph\n",
    "Pkg.update()\n",
    "Pkg.add(\"Plots\")\n",
    "using Plots\n",
    "f(x) = a+b*x\n",
    "plotly() # Choose the Plotly.jl backend for web interactivity\n",
    "plot(X,Y,seriestype=:scatter,title=\"linear regression\")\n",
    "plot!(f, 0, 30)"
   ]
  },
  {
   "cell_type": "markdown",
   "metadata": {},
   "source": [
    "# Linear regression using ArrayFire"
   ]
  },
  {
   "cell_type": "code",
   "execution_count": null,
   "metadata": {},
   "outputs": [],
   "source": [
    "Pkg.add(\"ArrayFire\")\n",
    "using ArrayFire"
   ]
  },
  {
   "cell_type": "code",
   "execution_count": null,
   "metadata": {},
   "outputs": [],
   "source": [
    "#ac = rand(10, 10)\n",
    "#print(typeof(ac))\n",
    "#ag = AFArray(ac)\n",
    "#print(typeof(ag))\n",
    "M = AFArray(X)\n",
    "N = AFArray(Y)\n",
    "@time(linreg(M,N))\n",
    "# longer time because of float? but not sure how to use int\n",
    "a,b = linreg(M,N)\n",
    "f(x) = a+b*x\n",
    "plotly() # Choose the Plotly.jl backend for web interactivity\n",
    "plot(X,Y,seriestype=:scatter,title=\"AF linear regression\")\n",
    "plot!(f, 0, 30)"
   ]
  },
  {
   "cell_type": "markdown",
   "metadata": {
    "collapsed": true
   },
   "source": [
    "In Julia, one would use the @time macro to time execution times of functions. However, in this particular case, @time would simply time the function call, and the library would execute asynchronously in the background. This would often lead to misleading timings. Therefore, the right way to time individual operations is to run them multiple times, place an explicit synchronization barrier at the end, and take the average of multiple runs."
   ]
  },
  {
   "cell_type": "code",
   "execution_count": null,
   "metadata": {
    "collapsed": true
   },
   "outputs": [],
   "source": []
  }
 ],
 "metadata": {
  "kernelspec": {
   "display_name": "Julia 0.6.0",
   "language": "julia",
   "name": "julia-0.6"
  },
  "language_info": {
   "file_extension": ".jl",
   "mimetype": "application/julia",
   "name": "julia",
   "version": "0.6.0"
  }
 },
 "nbformat": 4,
 "nbformat_minor": 2
}
