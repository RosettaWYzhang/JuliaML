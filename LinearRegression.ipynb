{
 "cells": [
  {
   "cell_type": "markdown",
   "metadata": {},
   "source": [
    "# Linear regression using linreg"
   ]
  },
  {
   "cell_type": "code",
   "execution_count": 8,
   "metadata": {
    "scrolled": true
   },
   "outputs": [
    {
     "name": "stdout",
     "output_type": "stream",
     "text": [
      "Array{Float64,1}  0.132814 seconds (64.25 k allocations: 3.372 MiB)\n"
     ]
    }
   ],
   "source": [
    "# create synthetic data and use linreg to compute slope and intercept\n",
    "X = [1.422,4.123,8.734,11.223,14.659,18.266,20.456,25.123];\n",
    "Y = [6.753,17.265,22.236,35.456,36.913,39.436,46.925,52.265];\n",
    "print(typeof(X))\n",
    "@time(linreg(X,Y))\n",
    "a,b = linreg(X,Y);"
   ]
  },
  {
   "cell_type": "code",
   "execution_count": 16,
   "metadata": {},
   "outputs": [
    {
     "ename": "LoadError",
     "evalue": "\u001b[91mUndefVarError: plot not defined\u001b[39m",
     "output_type": "error",
     "traceback": [
      "\u001b[91mUndefVarError: plot not defined\u001b[39m",
      "",
      "Stacktrace:",
      " [1] \u001b[1minclude_string\u001b[22m\u001b[22m\u001b[1m(\u001b[22m\u001b[22m::String, ::String\u001b[1m)\u001b[22m\u001b[22m at \u001b[1m./loading.jl:515\u001b[22m\u001b[22m"
     ]
    }
   ],
   "source": [
    "# plot graph\n",
    "using Gadfly\n",
    "f(x) = a+b*x\n",
    "#plotly() # Choose the Plotly.jl backend for web interactivity\n",
    "plot(X,Y)\n",
    "#plot!(f, 0, 30)"
   ]
  },
  {
   "cell_type": "markdown",
   "metadata": {},
   "source": [
    "# Linear regression using ArrayFire"
   ]
  },
  {
   "cell_type": "code",
   "execution_count": 3,
   "metadata": {},
   "outputs": [
    {
     "name": "stderr",
     "output_type": "stream",
     "text": [
      "\u001b[1m\u001b[36mINFO: \u001b[39m\u001b[22m\u001b[36mPackage ArrayFire is already installed\n",
      "\u001b[39m"
     ]
    },
    {
     "name": "stdout",
     "output_type": "stream",
     "text": [
      "ArrayFire v3.5.1 (OpenCL, 64-bit Mac OSX, build 0a675e8)\n",
      "[0] APPLE: AMD Radeon R9 M370X Compute Engine, 2048 MB\n",
      "-1- APPLE: Iris Pro, 1536 MB\n"
     ]
    }
   ],
   "source": [
    "Pkg.add(\"ArrayFire\")\n",
    "using ArrayFire"
   ]
  },
  {
   "cell_type": "code",
   "execution_count": 4,
   "metadata": {},
   "outputs": [
    {
     "name": "stdout",
     "output_type": "stream",
     "text": [
      "  0.171345 seconds (70.37 k allocations: 3.817 MiB, 17.71% gc time)\n"
     ]
    },
    {
     "data": {
      "text/html": [
       "<script src=\"/Users/wanyuezhang/.julia/v0.6/Plots/src/backends/../../deps/plotly-latest.min.js\"></script>    <div id=\"7d646c88-9e85-49a9-ada6-793ce508bcd7\" style=\"width:600px;height:400px;\"></div>\n",
       "    <script>\n",
       "    PLOT = document.getElementById('7d646c88-9e85-49a9-ada6-793ce508bcd7');\n",
       "    Plotly.plot(PLOT, [{\"showlegend\":true,\"mode\":\"markers\",\"xaxis\":\"x\",\"colorbar\":{\"title\":\"\"},\"marker\":{\"symbol\":\"circle\",\"color\":\"rgba(0, 154, 250, 1.000)\",\"line\":{\"color\":\"rgba(0, 0, 0, 1.000)\",\"width\":1},\"size\":8},\"y\":[6.753,17.265,22.236,35.456,36.913,39.436,46.925,52.265],\"type\":\"scatter\",\"name\":\"y1\",\"yaxis\":\"y\",\"x\":[1.422,4.123,8.734,11.223,14.659,18.266,20.456,25.123]},{\"showlegend\":true,\"mode\":\"lines\",\"xaxis\":\"x\",\"colorbar\":{\"title\":\"\"},\"line\":{\"color\":\"rgba(227, 111, 71, 1.000)\",\"shape\":\"linear\",\"dash\":\"solid\",\"width\":1},\"y\":[8.688263348922497,13.691011676527424,16.697454896693813,19.239364376917997,22.000590545703794,24.546196838542134,27.27535582122678,30.437354145366694,33.24736510198476,35.71149148539604,38.398050684566,41.10057684259813,44.0885650963407,46.93156052415047,49.88761612664128,52.37598529086439,55.41400199555832,58.269827303018616,62.84508090650381],\"type\":\"scatter\",\"name\":\"y2\",\"yaxis\":\"y\",\"x\":[0.29297457059364396,3.0019475150511847,4.629927339168717,6.006363561472972,7.5015591009915426,8.879997136038845,10.357828392194696,12.07004083015597,13.591653183330644,14.9259700962066,16.380733699659583,17.84414336258436,19.462129878732128,21.001603222345302,22.602298305340515,23.949742610005355,25.594819379590923,27.141240063861254,29.618725920481797]}], {\"showlegend\":true,\"xaxis\":{\"gridwidth\":0.5,\"tickvals\":[0.0,10.0,20.0,30.0],\"visible\":true,\"ticks\":\"inside\",\"tickmode\":\"array\",\"domain\":[0.03619130941965587,0.9934383202099738],\"linecolor\":\"rgba(0, 0, 0, 1.000)\",\"showgrid\":true,\"title\":\"\",\"mirror\":false,\"tickangle\":0,\"showline\":true,\"gridcolor\":\"rgba(0, 0, 0, 0.100)\",\"titlefont\":{\"color\":\"rgba(0, 0, 0, 1.000)\",\"family\":\"sans-serif\",\"size\":15},\"tickcolor\":\"rgb(0, 0, 0)\",\"ticktext\":[\"0\",\"10\",\"20\",\"30\"],\"zeroline\":false,\"type\":\"-\",\"tickfont\":{\"color\":\"rgba(0, 0, 0, 1.000)\",\"family\":\"sans-serif\",\"size\":11},\"zerolinecolor\":\"rgba(0, 0, 0, 1.000)\",\"anchor\":\"y\"},\"paper_bgcolor\":\"rgba(255, 255, 255, 1.000)\",\"annotations\":[{\"yanchor\":\"top\",\"xanchor\":\"center\",\"rotation\":-0.0,\"y\":1.0,\"font\":{\"color\":\"rgba(0, 0, 0, 1.000)\",\"family\":\"sans-serif\",\"size\":20},\"yref\":\"paper\",\"showarrow\":false,\"text\":\"AF linear regression\",\"xref\":\"paper\",\"x\":0.5148148148148148}],\"height\":400,\"margin\":{\"l\":0,\"b\":20,\"r\":0,\"t\":20},\"plot_bgcolor\":\"rgba(255, 255, 255, 1.000)\",\"yaxis\":{\"gridwidth\":0.5,\"tickvals\":[10.0,20.0,30.0,40.0,50.0,60.0],\"visible\":true,\"ticks\":\"inside\",\"tickmode\":\"array\",\"domain\":[0.03762029746281716,0.9415463692038496],\"linecolor\":\"rgba(0, 0, 0, 1.000)\",\"showgrid\":true,\"title\":\"\",\"mirror\":false,\"tickangle\":0,\"showline\":true,\"gridcolor\":\"rgba(0, 0, 0, 0.100)\",\"titlefont\":{\"color\":\"rgba(0, 0, 0, 1.000)\",\"family\":\"sans-serif\",\"size\":15},\"tickcolor\":\"rgb(0, 0, 0)\",\"ticktext\":[\"10\",\"20\",\"30\",\"40\",\"50\",\"60\"],\"zeroline\":false,\"type\":\"-\",\"tickfont\":{\"color\":\"rgba(0, 0, 0, 1.000)\",\"family\":\"sans-serif\",\"size\":11},\"zerolinecolor\":\"rgba(0, 0, 0, 1.000)\",\"anchor\":\"x\"},\"legend\":{\"bordercolor\":\"rgba(0, 0, 0, 1.000)\",\"bgcolor\":\"rgba(255, 255, 255, 1.000)\",\"font\":{\"color\":\"rgba(0, 0, 0, 1.000)\",\"family\":\"sans-serif\",\"size\":11},\"y\":1.0,\"x\":1.0},\"width\":600});\n",
       "    </script>\n"
      ]
     },
     "execution_count": 4,
     "metadata": {},
     "output_type": "execute_result"
    }
   ],
   "source": [
    "#ac = rand(10, 10)\n",
    "#print(typeof(ac))\n",
    "#ag = AFArray(ac)\n",
    "#print(typeof(ag))\n",
    "M = AFArray(X)\n",
    "N = AFArray(Y)\n",
    "@time(linreg(M,N))\n",
    "a,b = linreg(M,N)\n",
    "f(x) = a+b*x\n",
    "plotly() # Choose the Plotly.jl backend for web interactivity\n",
    "plot(X,Y,seriestype=:scatter,title=\"AF linear regression\")\n",
    "plot!(f, 0, 30)"
   ]
  },
  {
   "cell_type": "markdown",
   "metadata": {
    "collapsed": true
   },
   "source": [
    "In Julia, one would use the @time macro to time execution times of functions. However, in this particular case, @time would simply time the function call, and the library would execute asynchronously in the background. This would often lead to misleading timings. Therefore, the right way to time individual operations is to run them multiple times, place an explicit synchronization barrier at the end, and take the average of multiple runs."
   ]
  },
  {
   "cell_type": "markdown",
   "metadata": {
    "collapsed": true
   },
   "source": [
    "# Linear Regression from scratch"
   ]
  },
  {
   "cell_type": "code",
   "execution_count": 11,
   "metadata": {},
   "outputs": [
    {
     "ename": "LoadError",
     "evalue": "\u001b[91mUndefVarError: plot not defined\u001b[39m",
     "output_type": "error",
     "traceback": [
      "\u001b[91mUndefVarError: plot not defined\u001b[39m",
      "",
      "Stacktrace:",
      " [1] \u001b[1minclude_string\u001b[22m\u001b[22m\u001b[1m(\u001b[22m\u001b[22m::String, ::String\u001b[1m)\u001b[22m\u001b[22m at \u001b[1m./loading.jl:515\u001b[22m\u001b[22m"
     ]
    }
   ],
   "source": [
    "using Flux.Tracker\n",
    "using Plots\n",
    "\n",
    "\n",
    "# random dataset\n",
    "x, y = rand(5), rand(2)\n",
    "\n",
    "# visualise dataset\n",
    "plotly() # Choose the Plotly.jl backend for web interactivity\n",
    "plot(x,y,seriestype=:scatter,title=\"linear regression\")\n",
    "\n",
    "\n",
    "\n"
   ]
  },
  {
   "cell_type": "code",
   "execution_count": null,
   "metadata": {
    "collapsed": true
   },
   "outputs": [],
   "source": [
    "# randomly initiate weight and bias\n",
    "W = param(rand(2, 5))\n",
    "b = param(rand(2))\n",
    "\n",
    "# using CuArrays for GPU support\n",
    "# W, b, x, y = cu.((W, b, x, y))\n",
    "\n",
    "predict(x) = W*x .+ b\n",
    "meansquarederror(ŷ, y) = sum((ŷ .- y).^2)/size(y, 2)\n",
    "loss(x, y) = meansquarederror(predict(x), y)\n",
    "\n",
    "function update!(ps, η = .1)\n",
    "  for w in ps\n",
    "    #@show w.data\n",
    "    #@show w.grad\n",
    "    w.data .-= w.grad .* η  # apply update\n",
    "    w.grad .= 0             # clear the gradient, why?\n",
    "  end\n",
    "end\n",
    "\n",
    "\n",
    "for i = 1:5\n",
    "  back!(loss(x, y))\n",
    "  update!((W, b))\n",
    "  @show loss(x, y)\n",
    "end"
   ]
  },
  {
   "cell_type": "code",
   "execution_count": null,
   "metadata": {
    "collapsed": true
   },
   "outputs": [],
   "source": []
  }
 ],
 "metadata": {
  "kernelspec": {
   "display_name": "Julia 0.6.0",
   "language": "julia",
   "name": "julia-0.6"
  },
  "language_info": {
   "file_extension": ".jl",
   "mimetype": "application/julia",
   "name": "julia",
   "version": "0.6.0"
  }
 },
 "nbformat": 4,
 "nbformat_minor": 2
}
